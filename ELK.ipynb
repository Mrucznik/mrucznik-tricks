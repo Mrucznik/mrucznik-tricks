{
 "cells": [
  {
   "cell_type": "markdown",
   "metadata": {},
   "source": [
    "Cześć.\n",
    "Opiszę tutaj coś."
   ]
  },
  {
   "cell_type": "code",
   "execution_count": 2,
   "metadata": {},
   "outputs": [
    {
     "name": "stdout",
     "output_type": "stream",
     "text": [
      "CONTAINER ID        IMAGE                   COMMAND                  CREATED             STATUS              PORTS                  NAMES\n",
      "156befacee63        oryd/hydra:latest       \"hydra migrate sql -â€¦\"   2 months ago        Up About a minute                          api_hydra-migrate_1\n",
      "2662ed094c2c        phpmyadmin/phpmyadmin   \"/docker-entrypoint.â€¦\"   2 months ago        Up 5 hours          0.0.0.0:8008->80/tcp   api_phpmyadmin_1\n"
     ]
    }
   ],
   "source": [
    "%%bash\n",
    "docker ps"
   ]
  },
  {
   "cell_type": "code",
   "execution_count": null,
   "metadata": {},
   "outputs": [],
   "source": []
  }
 ],
 "metadata": {
  "kernelspec": {
   "display_name": "Python 3",
   "language": "python",
   "name": "python3"
  },
  "language_info": {
   "codemirror_mode": {
    "name": "ipython",
    "version": 3
   },
   "file_extension": ".py",
   "mimetype": "text/x-python",
   "name": "python",
   "nbconvert_exporter": "python",
   "pygments_lexer": "ipython3",
   "version": "3.7.0"
  }
 },
 "nbformat": 4,
 "nbformat_minor": 2
}
